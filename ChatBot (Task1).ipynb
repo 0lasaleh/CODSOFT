{
 "cells": [
  {
   "cell_type": "code",
   "execution_count": 4,
   "id": "8ece1ff9",
   "metadata": {},
   "outputs": [],
   "source": [
    "import re"
   ]
  },
  {
   "cell_type": "code",
   "execution_count": 5,
   "id": "d305a9ac",
   "metadata": {},
   "outputs": [],
   "source": [
    "def chatbot():\n",
    "    print(\"Hello! I'm a simple chatbot. How can I help you?\")\n",
    "    while True:\n",
    "        user_input = input(\"You: \").strip().lower()\n",
    "        if re.search('\\\\b(hi|hello|hey)\\\\b', user_input):\n",
    "            print(\"Chatbot: Hello! How can I help you?\")\n",
    "        elif re.search('\\\\b(how are you|how are you doing)\\\\b', user_input):\n",
    "            print(\"Chatbot:I'm doing well, what about you?\")\n",
    "        elif re.search('\\\\b(what is your name|who are you)\\\\b', user_input):\n",
    "            print(\"Chatbot: I'm a simple chatbot made by Ola Saleh.\")\n",
    "        elif re.search('\\\\bweather\\\\b', user_input):\n",
    "            print(\"Chatbot: I'm not connected to the internet, but you can check it on any weather website.\")\n",
    "        elif re.search('\\\\b(day|date)\\\\b', user_input):\n",
    "            print(\"Chatbot: I'm not sure what the date is, but you can check it on your phone calendar.\")\n",
    "        elif re.search('\\\\btime\\\\b', user_input):\n",
    "            print(\"Chatbot: I can't tell the time, but you can check it on your phone.\")\n",
    "        elif re.search('\\\\b(bye|goodbye|exit)\\\\b', user_input):\n",
    "            print(\"Chatbot: Goodbye! Have a nice day!\")\n",
    "            return\n",
    "        elif re.search('\\\\b(thank you|thanks)\\\\b', user_input):\n",
    "            print(\"Chatbot: You're welcome! How else can I help you?\")\n",
    "        elif re.search('\\\\b(help|assist)\\\\b', user_input):\n",
    "            print(\"Chatbot: Sure, just tell me... What do you need help with?\")\n",
    "        elif re.search('\\\\bwho created you\\\\b', user_input):\n",
    "            print(\"Chatbot: I was created by Ola Saleh using Python.\")\n",
    "        else:\n",
    "            print(\"Chatbot: I'm sorry, I don't understand that. Can you please rephrase?\")"
   ]
  },
  {
   "cell_type": "code",
   "execution_count": 6,
   "id": "748326a8",
   "metadata": {},
   "outputs": [
    {
     "name": "stdout",
     "output_type": "stream",
     "text": [
      "Hello! I'm a simple chatbot. How can I help you?\n",
      "You: hi\n",
      "Chatbot: Hello! How can I help you?\n",
      "You: how are you\n",
      "Chatbot:I'm doing well, what about you?\n",
      "You: good thanks\n",
      "Chatbot: You're welcome! How else can I help you?\n",
      "You: what is your name\n",
      "Chatbot: I'm a simple chatbot made by Ola Saleh.\n",
      "You: can you help me\n",
      "Chatbot: Sure, just tell me... What do you need help with?\n",
      "You: mmmmm\n",
      "Chatbot: I'm sorry, I don't understand that. Can you please rephrase?\n",
      "You: no goodbye\n",
      "Chatbot: Goodbye! Have a nice day!\n"
     ]
    }
   ],
   "source": [
    "chatbot()"
   ]
  }
 ],
 "metadata": {
  "kernelspec": {
   "display_name": "Python 3 (ipykernel)",
   "language": "python",
   "name": "python3"
  },
  "language_info": {
   "codemirror_mode": {
    "name": "ipython",
    "version": 3
   },
   "file_extension": ".py",
   "mimetype": "text/x-python",
   "name": "python",
   "nbconvert_exporter": "python",
   "pygments_lexer": "ipython3",
   "version": "3.9.7"
  }
 },
 "nbformat": 4,
 "nbformat_minor": 5
}
